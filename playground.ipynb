{
 "cells": [
  {
   "cell_type": "code",
   "execution_count": 1,
   "id": "66d291bb",
   "metadata": {},
   "outputs": [
    {
     "name": "stdout",
     "output_type": "stream",
     "text": [
      "Requirement already satisfied: traceback-with-variables==2.0.4 in ./venv/lib/python3.9/site-packages (2.0.4)\r\n",
      "\u001B[33mWARNING: You are using pip version 21.1.2; however, version 22.0.3 is available.\r\n",
      "You should consider upgrading via the '/home/stefan-werner/infai/L1R1/Extractor/venv/bin/python -m pip install --upgrade pip' command.\u001B[0m\r\n"
     ]
    }
   ],
   "source": [
    "!pip install traceback-with-variables==2.0.4\n",
    "from traceback_with_variables import activate_in_ipython_by_import"
   ]
  },
  {
   "cell_type": "code",
   "execution_count": 2,
   "id": "86f269a5",
   "metadata": {},
   "outputs": [
    {
     "name": "stdout",
     "output_type": "stream",
     "text": [
      "Collecting en-core-web-sm==3.2.0\r\n",
      "  Downloading https://github.com/explosion/spacy-models/releases/download/en_core_web_sm-3.2.0/en_core_web_sm-3.2.0-py3-none-any.whl (13.9 MB)\r\n",
      "\u001B[K     |████████████████████████████████| 13.9 MB 5.7 MB/s eta 0:00:01\r\n",
      "\u001B[?25hRequirement already satisfied: pandas in ./venv/lib/python3.9/site-packages (1.4.1)\r\n",
      "Requirement already satisfied: spacy==3.2.1 in ./venv/lib/python3.9/site-packages (3.2.1)\r\n",
      "Requirement already satisfied: preshed<3.1.0,>=3.0.2 in ./venv/lib/python3.9/site-packages (from spacy==3.2.1) (3.0.6)\r\n",
      "Requirement already satisfied: numpy>=1.15.0 in ./venv/lib/python3.9/site-packages (from spacy==3.2.1) (1.22.2)\r\n",
      "Requirement already satisfied: typer<0.5.0,>=0.3.0 in ./venv/lib/python3.9/site-packages (from spacy==3.2.1) (0.4.0)\r\n",
      "Requirement already satisfied: srsly<3.0.0,>=2.4.1 in ./venv/lib/python3.9/site-packages (from spacy==3.2.1) (2.4.2)\r\n",
      "Requirement already satisfied: murmurhash<1.1.0,>=0.28.0 in ./venv/lib/python3.9/site-packages (from spacy==3.2.1) (1.0.6)\r\n",
      "Requirement already satisfied: pathy>=0.3.5 in ./venv/lib/python3.9/site-packages (from spacy==3.2.1) (0.6.1)\r\n",
      "Requirement already satisfied: pydantic!=1.8,!=1.8.1,<1.9.0,>=1.7.4 in ./venv/lib/python3.9/site-packages (from spacy==3.2.1) (1.8.2)\r\n",
      "Requirement already satisfied: wasabi<1.1.0,>=0.8.1 in ./venv/lib/python3.9/site-packages (from spacy==3.2.1) (0.9.0)\r\n",
      "Requirement already satisfied: packaging>=20.0 in ./venv/lib/python3.9/site-packages (from spacy==3.2.1) (21.3)\r\n",
      "Requirement already satisfied: requests<3.0.0,>=2.13.0 in ./venv/lib/python3.9/site-packages (from spacy==3.2.1) (2.27.1)\r\n",
      "Requirement already satisfied: tqdm<5.0.0,>=4.38.0 in ./venv/lib/python3.9/site-packages (from spacy==3.2.1) (4.62.3)\r\n",
      "Requirement already satisfied: cymem<2.1.0,>=2.0.2 in ./venv/lib/python3.9/site-packages (from spacy==3.2.1) (2.0.6)\r\n",
      "Requirement already satisfied: spacy-loggers<2.0.0,>=1.0.0 in ./venv/lib/python3.9/site-packages (from spacy==3.2.1) (1.0.1)\r\n",
      "Requirement already satisfied: thinc<8.1.0,>=8.0.12 in ./venv/lib/python3.9/site-packages (from spacy==3.2.1) (8.0.13)\r\n",
      "Requirement already satisfied: catalogue<2.1.0,>=2.0.6 in ./venv/lib/python3.9/site-packages (from spacy==3.2.1) (2.0.6)\r\n",
      "Requirement already satisfied: spacy-legacy<3.1.0,>=3.0.8 in ./venv/lib/python3.9/site-packages (from spacy==3.2.1) (3.0.9)\r\n",
      "Requirement already satisfied: setuptools in ./venv/lib/python3.9/site-packages (from spacy==3.2.1) (57.0.0)\r\n",
      "Requirement already satisfied: jinja2 in ./venv/lib/python3.9/site-packages (from spacy==3.2.1) (3.0.3)\r\n",
      "Requirement already satisfied: langcodes<4.0.0,>=3.2.0 in ./venv/lib/python3.9/site-packages (from spacy==3.2.1) (3.3.0)\r\n",
      "Requirement already satisfied: blis<0.8.0,>=0.4.0 in ./venv/lib/python3.9/site-packages (from spacy==3.2.1) (0.7.5)\r\n",
      "Requirement already satisfied: pyparsing!=3.0.5,>=2.0.2 in ./venv/lib/python3.9/site-packages (from packaging>=20.0->spacy==3.2.1) (3.0.7)\r\n",
      "Requirement already satisfied: smart-open<6.0.0,>=5.0.0 in ./venv/lib/python3.9/site-packages (from pathy>=0.3.5->spacy==3.2.1) (5.2.1)\r\n",
      "Requirement already satisfied: typing-extensions>=3.7.4.3 in ./venv/lib/python3.9/site-packages (from pydantic!=1.8,!=1.8.1,<1.9.0,>=1.7.4->spacy==3.2.1) (4.1.1)\r\n",
      "Requirement already satisfied: idna<4,>=2.5 in ./venv/lib/python3.9/site-packages (from requests<3.0.0,>=2.13.0->spacy==3.2.1) (3.3)\r\n",
      "Requirement already satisfied: certifi>=2017.4.17 in ./venv/lib/python3.9/site-packages (from requests<3.0.0,>=2.13.0->spacy==3.2.1) (2021.10.8)\r\n",
      "Requirement already satisfied: charset-normalizer~=2.0.0 in ./venv/lib/python3.9/site-packages (from requests<3.0.0,>=2.13.0->spacy==3.2.1) (2.0.12)\r\n",
      "Requirement already satisfied: urllib3<1.27,>=1.21.1 in ./venv/lib/python3.9/site-packages (from requests<3.0.0,>=2.13.0->spacy==3.2.1) (1.26.8)\r\n",
      "Requirement already satisfied: click<9.0.0,>=7.1.1 in ./venv/lib/python3.9/site-packages (from typer<0.5.0,>=0.3.0->spacy==3.2.1) (8.0.4)\r\n",
      "Requirement already satisfied: pytz>=2020.1 in ./venv/lib/python3.9/site-packages (from pandas) (2021.3)\r\n",
      "Requirement already satisfied: python-dateutil>=2.8.1 in ./venv/lib/python3.9/site-packages (from pandas) (2.8.2)\r\n",
      "Requirement already satisfied: six>=1.5 in ./venv/lib/python3.9/site-packages (from python-dateutil>=2.8.1->pandas) (1.16.0)\r\n",
      "Requirement already satisfied: MarkupSafe>=2.0 in ./venv/lib/python3.9/site-packages (from jinja2->spacy==3.2.1) (2.1.0)\r\n",
      "\u001B[33mWARNING: You are using pip version 21.1.2; however, version 22.0.3 is available.\r\n",
      "You should consider upgrading via the '/home/stefan-werner/infai/L1R1/Extractor/venv/bin/python -m pip install --upgrade pip' command.\u001B[0m\r\n"
     ]
    }
   ],
   "source": [
    "! pip3 install pandas spacy==3.2.1  https://github.com/explosion/spacy-models/releases/download/en_core_web_sm-3.2.0/en_core_web_sm-3.2.0-py3-none-any.whl\n"
   ]
  },
  {
   "cell_type": "code",
   "execution_count": 3,
   "id": "1d4ae04c",
   "metadata": {},
   "outputs": [
    {
     "name": "stdout",
     "output_type": "stream",
     "text": [
      "Requirement already satisfied: faker in ./venv/lib/python3.9/site-packages (13.2.0)\r\n",
      "Requirement already satisfied: python-dateutil>=2.4 in ./venv/lib/python3.9/site-packages (from faker) (2.8.2)\r\n",
      "Requirement already satisfied: six>=1.5 in ./venv/lib/python3.9/site-packages (from python-dateutil>=2.4->faker) (1.16.0)\r\n",
      "\u001B[33mWARNING: You are using pip version 21.1.2; however, version 22.0.3 is available.\r\n",
      "You should consider upgrading via the '/home/stefan-werner/infai/L1R1/Extractor/venv/bin/python -m pip install --upgrade pip' command.\u001B[0m\r\n"
     ]
    }
   ],
   "source": [
    "! pip3 install faker"
   ]
  },
  {
   "cell_type": "code",
   "execution_count": 4,
   "id": "94f445b9",
   "metadata": {},
   "outputs": [
    {
     "name": "stdout",
     "output_type": "stream",
     "text": [
      "Requirement already satisfied: wordnet in ./venv/lib/python3.9/site-packages (0.0.1b2)\r\n",
      "Requirement already satisfied: nltk in ./venv/lib/python3.9/site-packages (3.7)\r\n",
      "Requirement already satisfied: colorama==0.3.9 in ./venv/lib/python3.9/site-packages (from wordnet) (0.3.9)\r\n",
      "Requirement already satisfied: regex>=2021.8.3 in ./venv/lib/python3.9/site-packages (from nltk) (2022.1.18)\r\n",
      "Requirement already satisfied: joblib in ./venv/lib/python3.9/site-packages (from nltk) (1.1.0)\r\n",
      "Requirement already satisfied: click in ./venv/lib/python3.9/site-packages (from nltk) (8.0.4)\r\n",
      "Requirement already satisfied: tqdm in ./venv/lib/python3.9/site-packages (from nltk) (4.62.3)\r\n",
      "\u001B[33mWARNING: You are using pip version 21.1.2; however, version 22.0.3 is available.\r\n",
      "You should consider upgrading via the '/home/stefan-werner/infai/L1R1/Extractor/venv/bin/python -m pip install --upgrade pip' command.\u001B[0m\r\n"
     ]
    },
    {
     "name": "stderr",
     "output_type": "stream",
     "text": [
      "[nltk_data] Downloading package words to /home/stefan-\n",
      "[nltk_data]     werner/nltk_data...\n",
      "[nltk_data]   Package words is already up-to-date!\n"
     ]
    },
    {
     "data": {
      "text/plain": "True"
     },
     "execution_count": 4,
     "metadata": {},
     "output_type": "execute_result"
    }
   ],
   "source": [
    "! pip install wordnet nltk\n",
    "import nltk\n",
    "nltk.download('words')"
   ]
  },
  {
   "cell_type": "code",
   "execution_count": 5,
   "id": "02c70553",
   "metadata": {},
   "outputs": [],
   "source": [
    "def flatten(A):\n",
    "    rt = []\n",
    "    for i in A:\n",
    "        if isinstance(i,list): rt.extend(flatten(i))\n",
    "        else: rt.append(i)\n",
    "    return rt"
   ]
  },
  {
   "cell_type": "code",
   "execution_count": 6,
   "id": "af51ee7e",
   "metadata": {},
   "outputs": [
    {
     "data": {
      "text/plain": "'podalic neglectfully phallicist accessioner crocheting Wilton quiescently ultracosmopolitan pseudomeningitis nonrural spongioblast tuberculid restorativeness plaguesome Fortunella cotyledonar wadmeal superaddition odontogeny philodramatic'"
     },
     "execution_count": 6,
     "metadata": {},
     "output_type": "execute_result"
    }
   ],
   "source": [
    "from nltk.corpus import words\n",
    "from random import sample\n",
    "\n",
    "rand_words = ' '.join(sample(words.words(), 20))\n",
    "\n",
    "rand_words"
   ]
  },
  {
   "cell_type": "code",
   "execution_count": 10,
   "id": "fac1189a",
   "metadata": {},
   "outputs": [],
   "source": [
    "import faker\n",
    "import random\n",
    "import pandas \n",
    "from nltk.corpus import words\n",
    "\n",
    "_df = None\n",
    "def write_fake_dataset(path):\n",
    "    global _df\n",
    "\n",
    "    fake = faker.Faker(['de_DE'])\n",
    "\n",
    "    ds = []\n",
    "\n",
    "    keys = \"Street_Name,Building_Number,Zip_Code,City,Recipient,Building_Name,Country,State\".split(\",\")\n",
    "    for _ in range(2000):\n",
    "        things =   flatten( [[s.split(\" \", 1) \n",
    "                             for s in fake.address().split(\"\\n\")], \n",
    "                             fake.name(), \n",
    "                             \"\"+  fake.name() + \"-Bau\",\n",
    "                             random.choice([\"DE\", \"Deutschland\", \"Ger\", \"Germany\"]),\n",
    "                             random.choice([\n",
    "                                 \"Sachsen\", \n",
    "                                 \"Berlin\", \"Brandenburg\", \"Thüringen\", \"Sachsen-Anhalt\", \"Mecklenburg-Vorpommern\",\n",
    "                                 \"Bremen\", \"Hannover\", \"Niedersachsen\", \"Baden-Württemberg\", \"Bayern\", \"Hessen\",\n",
    "                                 \"Reinland-Pfalz\", \"Saarland\", \"NRW\", \"Nord-Rhein-Westphalen\",\n",
    "                             \"Sachsen(SX)\", \n",
    "                                 \"Berlin(B)\", \"Brandenburg(BB)\", \"Thüringen(Tü)\", \"SachsenAnhalt(SA)\", \"Mecklenburg-Vorpommern(MV)\",\n",
    "                                 \"Bremen(BRE)\", \"Hamburg(H)\", \"Niedersachsen(NS)\", \"BadenWürttemberg(BW)\", \"Bayern(BY)\", \"Hessen\",\n",
    "                                 \"ReinlandPfalz(RP)\", \"Saarland(SL)\", \"NRW\", \"NordRheinWestphalen(NRW)\",\n",
    "                             \"SX\", \"BB\", \"B\", \"Tü\", \"SA\", \"MV\", \"Bre\", \"H\", \"NS\", \"BW\", \"BY\", \"RP\", \"BRE\", \"SL\"]),\n",
    "\n",
    "                            ])\n",
    "        things = [t.replace(\"(\", \" \"). replace(\")\", \" \").strip() for t in things]\n",
    "        d = {k: v for k, v in zip(keys, things)  }\n",
    "        to_del = set([ random.choice(keys)  for _ in range(3)])\n",
    "\n",
    "        for k_to_del in to_del:\n",
    "            del d[k_to_del]\n",
    "\n",
    "        things += [fake.sentence(nb_words=10) for _ in range(5)]\n",
    "        random.shuffle(things)\n",
    "\n",
    "        d [\"Address\"] = random.choice([\" \", \", \"]).join(list(things))\n",
    "        \n",
    "        \n",
    "\n",
    "        ds.append(d)\n",
    "\n",
    "    df = pandas.DataFrame(ds)\n",
    "                          \n",
    "    df.to_csv(path)\n",
    "    _df = df\n",
    "    \n",
    "    \n",
    "                          \n",
    "for path in [\"corpus/dataset/train-dataset.csv\", \"corpus/dataset/test-dataset.csv\"]:\n",
    "     write_fake_dataset(path)                      "
   ]
  },
  {
   "cell_type": "code",
   "execution_count": 11,
   "id": "41a681fc",
   "metadata": {},
   "outputs": [
    {
     "data": {
      "text/plain": "     Street_Name Building_Number Zip_Code                 Recipient  \\\n0     Kambsallee               6    72111  Henriette Tintzmann MBA.   \n1            NaN             8/9    06361                       NaN   \n2     Rennerstr.             2/4    33319                       NaN   \n3      Naserring             4/1    26688        Ekaterina Kitzmann   \n4  Buchholzallee               0    28256             Melitta Kabus   \n\n       Country                                            Address  \\\n0           DE  Lehrer nichts Spaß Loch die vor besser Wort Zi...   \n1      Germany  Saarland SL, Erika-Hornich-Platz, Zu drehen le...   \n2          NaN  Prof. Veronique Kambs B.Sc. Deutschland Renner...   \n3          NaN  Aber hängen neu seit sich das. Naserring Gerad...   \n4  Deutschland  Buchholzallee Darauf erschrecken liegen heute ...   \n\n    Building_Name                  State        City  \n0             NaN                    NaN         NaN  \n1  Maxim Vogt-Bau            Saarland SL         NaN  \n2             NaN                     Tü  Gelnhausen  \n3             NaN  Nord-Rhein-Westphalen       Guben  \n4  Ante Zobel-Bau                    NaN         NaN  ",
      "text/html": "<div>\n<style scoped>\n    .dataframe tbody tr th:only-of-type {\n        vertical-align: middle;\n    }\n\n    .dataframe tbody tr th {\n        vertical-align: top;\n    }\n\n    .dataframe thead th {\n        text-align: right;\n    }\n</style>\n<table border=\"1\" class=\"dataframe\">\n  <thead>\n    <tr style=\"text-align: right;\">\n      <th></th>\n      <th>Street_Name</th>\n      <th>Building_Number</th>\n      <th>Zip_Code</th>\n      <th>Recipient</th>\n      <th>Country</th>\n      <th>Address</th>\n      <th>Building_Name</th>\n      <th>State</th>\n      <th>City</th>\n    </tr>\n  </thead>\n  <tbody>\n    <tr>\n      <th>0</th>\n      <td>Kambsallee</td>\n      <td>6</td>\n      <td>72111</td>\n      <td>Henriette Tintzmann MBA.</td>\n      <td>DE</td>\n      <td>Lehrer nichts Spaß Loch die vor besser Wort Zi...</td>\n      <td>NaN</td>\n      <td>NaN</td>\n      <td>NaN</td>\n    </tr>\n    <tr>\n      <th>1</th>\n      <td>NaN</td>\n      <td>8/9</td>\n      <td>06361</td>\n      <td>NaN</td>\n      <td>Germany</td>\n      <td>Saarland SL, Erika-Hornich-Platz, Zu drehen le...</td>\n      <td>Maxim Vogt-Bau</td>\n      <td>Saarland SL</td>\n      <td>NaN</td>\n    </tr>\n    <tr>\n      <th>2</th>\n      <td>Rennerstr.</td>\n      <td>2/4</td>\n      <td>33319</td>\n      <td>NaN</td>\n      <td>NaN</td>\n      <td>Prof. Veronique Kambs B.Sc. Deutschland Renner...</td>\n      <td>NaN</td>\n      <td>Tü</td>\n      <td>Gelnhausen</td>\n    </tr>\n    <tr>\n      <th>3</th>\n      <td>Naserring</td>\n      <td>4/1</td>\n      <td>26688</td>\n      <td>Ekaterina Kitzmann</td>\n      <td>NaN</td>\n      <td>Aber hängen neu seit sich das. Naserring Gerad...</td>\n      <td>NaN</td>\n      <td>Nord-Rhein-Westphalen</td>\n      <td>Guben</td>\n    </tr>\n    <tr>\n      <th>4</th>\n      <td>Buchholzallee</td>\n      <td>0</td>\n      <td>28256</td>\n      <td>Melitta Kabus</td>\n      <td>Deutschland</td>\n      <td>Buchholzallee Darauf erschrecken liegen heute ...</td>\n      <td>Ante Zobel-Bau</td>\n      <td>NaN</td>\n      <td>NaN</td>\n    </tr>\n  </tbody>\n</table>\n</div>"
     },
     "execution_count": 11,
     "metadata": {},
     "output_type": "execute_result"
    }
   ],
   "source": [
    "_df.head()"
   ]
  },
  {
   "cell_type": "code",
   "execution_count": 12,
   "id": "04b7b242",
   "metadata": {},
   "outputs": [],
   "source": [
    "with open(\"configbase_config.cfg\", \"w\") as f:\n",
    "    f.write(\"\"\"\n",
    "    \n",
    "[components]\n",
    "[components.ner]\n",
    "factory=\"ner\"\n",
    "\n",
    "[nlp]\n",
    "lang = \"de\"\n",
    "pipeline = [\"ner\"]\n",
    "\n",
    "[training]\n",
    "[training.batch_size]\n",
    "@schedules = \"compounding.v1\"\n",
    "start = 4\n",
    "stop = 32\n",
    "compound = 1.001\n",
    "\n",
    "\"\"\")"
   ]
  },
  {
   "cell_type": "code",
   "execution_count": 13,
   "id": "acb12bb6",
   "metadata": {},
   "outputs": [
    {
     "name": "stderr",
     "output_type": "stream",
     "text": [
      "/home/stefan-werner/infai/L1R1/Extractor/training_data_prep.py:8: FutureWarning: Passing a negative integer is deprecated in version 1.0 and will not be supported in future version. Instead, use None to not limit the column width.\n",
      "  pd.set_option('display.max_colwidth', -1)\n"
     ]
    }
   ],
   "source": [
    "import training_data_prep"
   ]
  },
  {
   "cell_type": "code",
   "execution_count": 14,
   "id": "4b41aba5",
   "metadata": {},
   "outputs": [
    {
     "name": "stderr",
     "output_type": "stream",
     "text": [
      "/home/stefan-werner/infai/L1R1/Extractor/training_data_prep.py:8: FutureWarning: Passing a negative integer is deprecated in version 1.0 and will not be supported in future version. Instead, use None to not limit the column width.\n",
      "  pd.set_option('display.max_colwidth', -1)\n"
     ]
    },
    {
     "data": {
      "text/plain": "<module 'training_data_prep' from '/home/stefan-werner/infai/L1R1/Extractor/training_data_prep.py'>"
     },
     "execution_count": 14,
     "metadata": {},
     "output_type": "execute_result"
    }
   ],
   "source": [
    "import importlib\n",
    "importlib.reload(training_data_prep)"
   ]
  },
  {
   "cell_type": "code",
   "execution_count": 15,
   "id": "49e0819c",
   "metadata": {},
   "outputs": [
    {
     "name": "stdout",
     "output_type": "stream",
     "text": [
      "\u001B[38;5;2m✔ Auto-filled config with all values\u001B[0m\r\n",
      "\u001B[38;5;2m✔ Saved config\u001B[0m\r\n",
      "config/config.cfg\r\n",
      "You can now add your data and train your pipeline:\r\n",
      "python -m spacy train config.cfg --paths.train ./train.spacy --paths.dev ./dev.spacy\r\n"
     ]
    }
   ],
   "source": [
    "! python -m spacy init fill-config config/base_config.cfg config/config.cfg"
   ]
  },
  {
   "cell_type": "code",
   "execution_count": null,
   "id": "b80e3f8a",
   "metadata": {
    "pycharm": {
     "is_executing": true
    }
   },
   "outputs": [
    {
     "name": "stdout",
     "output_type": "stream",
     "text": [
      "\u001B[38;5;4mℹ Saving to output directory: output/models\u001B[0m\r\n",
      "\u001B[38;5;4mℹ Using CPU\u001B[0m\r\n",
      "\u001B[1m\r\n",
      "=========================== Initializing pipeline ===========================\u001B[0m\r\n",
      "[2022-02-24 12:41:48,555] [INFO] Set up nlp object from config\r\n",
      "[2022-02-24 12:41:48,560] [INFO] Pipeline: ['ner']\r\n",
      "[2022-02-24 12:41:48,562] [INFO] Created vocabulary\r\n",
      "[2022-02-24 12:41:48,562] [INFO] Finished initializing nlp object\r\n",
      "[2022-02-24 12:41:49,681] [INFO] Initialized pipeline components: ['ner']\r\n",
      "\u001B[38;5;2m✔ Initialized pipeline\u001B[0m\r\n",
      "\u001B[1m\r\n",
      "============================= Training pipeline =============================\u001B[0m\r\n",
      "\u001B[38;5;4mℹ Pipeline: ['ner']\u001B[0m\r\n",
      "\u001B[38;5;4mℹ Initial learn rate: 0.001\u001B[0m\r\n",
      "E    #       LOSS NER  ENTS_F  ENTS_P  ENTS_R  SCORE \r\n",
      "---  ------  --------  ------  ------  ------  ------\r\n",
      "  0       0     35.03    0.00    0.00    0.00    0.00\r\n",
      "  0      10    598.57    0.00    0.00    0.00    0.00\r\n",
      "  0      20    119.77    0.00    0.00    0.00    0.00\r\n",
      "  0      30     95.36    0.02   50.00    0.01    0.00\r\n",
      "  0      40     87.78    0.04   20.00    0.02    0.00\r\n",
      "  0      50     87.75    0.06   60.00    0.03    0.00\r\n",
      "  0      60     98.65    0.81   44.00    0.41    0.01\r\n"
     ]
    }
   ],
   "source": [
    "! python -m spacy train config/config.cfg --paths.train corpus/spacy-docbins/train.spacy --paths.dev corpus/spacy-docbins/test.spacy --output output/models --training.eval_frequency 10 --training.max_steps 1000"
   ]
  },
  {
   "cell_type": "code",
   "execution_count": 51,
   "id": "e47b1c73",
   "metadata": {},
   "outputs": [
    {
     "name": "stdout",
     "output_type": "stream",
     "text": [
      "Address string -> Wir wohnen in der Invalidenstrasse 89 Lemberg, Rheinland-Pfalz(RP), 66969 06331 39 81 53, DE\n",
      "[('Invalidenstrasse', 'STREET_NAME'),\n",
      " ('89', 'BUILDING_NO'),\n",
      " ('Lemberg', 'CITY'),\n",
      " ('Rheinland', 'CITY'),\n",
      " ('66969', 'ZIP_CODE'),\n",
      " ('06331', 'ZIP_CODE'),\n",
      " ('39', 'BUILDING_NO'),\n",
      " ('81', 'BUILDING_NO'),\n",
      " ('53', 'BUILDING_NO'),\n",
      " ('DE', 'COUNTRY')]\n",
      "******\n",
      "Address string -> Nordhorn 48527 Lietzenburger Straße 52 05921 43 64 27, Deutschland ist unsere Addresse\n",
      "[('Nordhorn', 'CITY'),\n",
      " ('48527', 'ZIP_CODE'),\n",
      " ('Lietzenburger Straße', 'RECIPIENT'),\n",
      " ('52', 'BUILDING_NO'),\n",
      " ('05921', 'ZIP_CODE'),\n",
      " ('43', 'BUILDING_NO'),\n",
      " ('64', 'BUILDING_NO'),\n",
      " ('27', 'BUILDING_NO'),\n",
      " ('Deutschland', 'COUNTRY'),\n",
      " ('Addresse', 'STREET_NAME')]\n",
      "******\n",
      "Address string -> Meine neue Adresse ist nun Kurfuerstendamm 94 74081 Heilbronn Klingenberg, Baden-Württemberg(BW), DE. Schicken Sie das Paket hierher\n",
      "[('Adresse', 'STREET_NAME'),\n",
      " ('Kurfuerstendamm', 'CITY'),\n",
      " ('94', 'BUILDING_NO'),\n",
      " ('74081', 'ZIP_CODE'),\n",
      " ('Heilbronn Klingenberg', 'RECIPIENT'),\n",
      " ('Baden-Württemberg(BW', 'STATE'),\n",
      " ('DE', 'COUNTRY')]\n",
      "******\n",
      "Address string -> Wohnhaft in Deutschland Rudower Chaussee 35 Lübeck, Schleswig-Holstein(SH), 23516. Angeklagt wegen Angriffs auf ein\n",
      "[('Wohnhaft in', 'RECIPIENT'),\n",
      " ('Deutschland', 'COUNTRY'),\n",
      " ('Rudower Chaussee', 'RECIPIENT'),\n",
      " ('35', 'BUILDING_NO'),\n",
      " ('Lübeck', 'CITY'),\n",
      " ('23516', 'ZIP_CODE'),\n",
      " ('.', 'STREET_NAME')]\n",
      "******\n",
      "Address string -> Der Chef haust in der Brandenburgischen Str 40 Meddersheim, DE Rheinland-Pfalz(RP), 55566. Er heißt Markus Lindner.\n",
      "[('40', 'BUILDING_NO'),\n",
      " ('Meddersheim', 'CITY'),\n",
      " ('DE', 'COUNTRY'),\n",
      " ('Rheinland', 'CITY'),\n",
      " ('55566', 'ZIP_CODE'),\n",
      " ('.', 'CITY'),\n",
      " ('Markus Lindner.', 'STREET_NAME')]\n",
      "******\n",
      "Address string -> Niemand will eine neue Mauer in der Grolmanstraße 94 Bremen Sankt Magnus, Germany Freie Hansestadt Bremen(HB), 28757 0421 87 79 10\n",
      "[('Grolmanstraße', 'STREET_NAME'),\n",
      " ('94', 'BUILDING_NO'),\n",
      " ('Bremen', 'STATE'),\n",
      " ('Sankt Magnus', 'CITY'),\n",
      " ('Germany', 'COUNTRY'),\n",
      " ('Freie Hansestadt', 'RECIPIENT'),\n",
      " ('28757', 'ZIP_CODE'),\n",
      " ('0421', 'ZIP_CODE'),\n",
      " ('87', 'BUILDING_NO'),\n",
      " ('79', 'BUILDING_NO'),\n",
      " ('10', 'BUILDING_NO')]\n",
      "******\n",
      "Address string -> Ich wohne in Schland, Möhrentopfstraße 542, 01120 Leipzig. Kommen Sie einfach vorbei\n",
      "[('Schland', 'STATE'),\n",
      " ('Möhrentopfstraße', 'STREET_NAME'),\n",
      " ('542', 'BUILDING_NO'),\n",
      " ('01120', 'ZIP_CODE')]\n",
      "******\n"
     ]
    }
   ],
   "source": [
    "import spacy\n",
    "\n",
    "nlp=spacy.load(\"output/models/model-best\")\n",
    "\n",
    "address_list=[\"Wir wohnen in der Invalidenstrasse 89 Lemberg, Rheinland-Pfalz(RP), 66969 06331 39 81 53, DE\",\n",
    "\"Nordhorn 48527 Lietzenburger Straße 52 05921 43 64 27, Deutschland ist unsere Addresse\",\n",
    "\"Meine neue Adresse ist nun Kurfuerstendamm 94 74081 Heilbronn Klingenberg, Baden-Württemberg(BW), DE. Schicken Sie das Paket hierher\",\n",
    "\"Wohnhaft in Deutschland Rudower Chaussee 35 Lübeck, Schleswig-Holstein(SH), 23516. Angeklagt wegen Angriffs auf ein\",\n",
    "\"Der Chef haust in der Brandenburgischen Str 40 Meddersheim, DE Rheinland-Pfalz(RP), 55566. Er heißt Markus Lindner.\",\n",
    "\"Niemand will eine neue Mauer in der Grolmanstraße 94 Bremen Sankt Magnus, Germany Freie Hansestadt Bremen(HB), 28757 0421 87 79 10\",\n",
    "\n",
    "              \"Ich wohne in Schland, Möhrentopfstraße 542, 01120 Leipzig. Kommen Sie einfach vorbei\"]\n",
    "\n",
    "\n",
    "import pprint\n",
    "for address in address_list:\n",
    "    doc=nlp(address)\n",
    "    ent_list=[(ent.text, ent.label_) for ent in doc.ents]\n",
    "    print(\"Address string -> \"+address)\n",
    "    pprint.pprint((ent_list))\n",
    "    print(\"******\")"
   ]
  },
  {
   "cell_type": "code",
   "execution_count": 25,
   "id": "fb3110be",
   "metadata": {},
   "outputs": [
    {
     "data": {
      "text/plain": "    Unnamed: 0                  Street_Name Building_Number Zip_Code  \\\n0    0          Ruppersbergerstraße          3               92777     \n1    1          Klaudia Klemt Gasse          3               73531     \n2    2          Deborah Freudenberger Allee  7               37749     \n3    3          Miroslawa Wilms Ring         7               21666     \n4    4          Nohlmansallee                3/8             44158     \n..  ..                    ...                ...               ...     \n495  495        Schenkplatz                  8               77916     \n496  496        Gutestraße                   986             14545     \n497  497        Wilmsstraße                  576             18658     \n498  498        Reichmannallee               1               82801     \n499  499        Gerlachgasse                 9/6             75420     \n\n                City                  Recipient  \\\n0    Stadtsteinach    Hiltrud Mies Bonbach        \n1    Bremen           Tatjana Weiß                \n2    Wittenberg       Ing. Phillip Otto           \n3    Schlüchtern      Grete Dörr B.Eng.           \n4    Gräfenhainichen  Dr. Brita Harloff B.A.      \n..               ...                     ...      \n495  Rastatt          Waltraut Klemm              \n496  Bremen           Ester Löffler               \n497  Querfurt         Hans Jochen Holzapfel       \n498  Riesa            Angelica Kühnert Hornig     \n499  Kronach          Ing. Berthold Lindau MBA.   \n\n                         Building_Name      Country                    State  \\\n0    Andres Eigenwillig Kambs Bau       DE           BB                        \n1    Ing. Bartholomäus Fritsch Bau      DE           Baden Württemberg         \n2    Constance Kraushaar Bau            DE           Niedersachsen NS          \n3    Dörthe Mitschke Bau                DE           SL                        \n4    Prof. Korbinian Henschel MBA. Bau  Germany      Brandenburg               \n..                                 ...      ...              ...               \n495  Wilhelm Graf Gertz Bau             Deutschland  Brandenburg               \n496  Univ.Prof. Alicja Kranz MBA. Bau   Deutschland  Thüringen Tü              \n497  Wolf Seip Bau                      Deutschland  Brandenburg               \n498  Dina Holsten Bau                   Deutschland  Baden Württemberg         \n499  Lutz Eckbauer Bau                  DE           NordRheinWestphalen NRW   \n\n                                                                                                                                                                                                                                              Address  \n0    auctioneer 3 Stadtsteinach preciously Prosimiae landgraviate Ruppersbergerstraße BB someone Hiltrud Mies Bonbach enzone 92777 DE neuropodium Andres Eigenwillig Kambs Bau sulfoindigotate atheize slobbers                                        \n1    achroous Coccolobis nymphomania 73531 rogation palfrey inexportable Bremen unbailed Ing. Bartholomäus Fritsch Bau selflessly Klaudia Klemt Gasse Tatjana Weiß DE 3 Baden Württemberg ruffly queerish                                              \n2    galloptious, ozonification, adsignification, stra, Deborah Freudenberger Allee, rib, Niedersachsen NS, DE, unroved, cautionry, 37749, scotcher, Ing. Phillip Otto, Mesartim, 7, Constance Kraushaar Bau, Wittenberg, Gellert                      \n3    provocativeness renes dismissal SL Miroslawa Wilms Ring unburrowed Dörthe Mitschke Bau DE Grete Dörr B.Eng. lithographic Geullah decentralism Schlüchtern 21666 hypertonus sailorman 7 Jynginae                                                   \n4    44158, hypermetropic, nominy, Brandenburg, Nohlmansallee, maintainment, Gräfenhainichen, Prof. Korbinian Henschel MBA. Bau, Dr. Brita Harloff B.A., Germany, envolume, archigastrula, madreporitic, aldolize, cochlea, dwelt, 3/8, intromissible  \n..                                                                                                                                                                                                                                                ...  \n495  clutchman, apronless, Waltraut Klemm, Yazoo, wash, Brandenburg, noctiluca, 77916, misconceive, Deutschland, detestable, idoloclast, Wilhelm Graf Gertz Bau, Rastatt, Schenkplatz, 8, Durango, gametophore                                         \n496  couth, preinduce, Bremen, silverbill, biomathematics, anatox, Ester Löffler, Deutschland, beearn, 14545, menthene, archeus, disconnectiveness, Thüringen Tü, Univ.Prof. Alicja Kranz MBA. Bau, Gutestraße, prunitrin, 986                         \n497  18658, unstolen, 576, Cabinda, Hans Jochen Holzapfel, caconymic, Brandenburg, atomician, outmaster, lox, Wilmsstraße, Deutschland, Querfurt, undisbarred, Chartist, turnicomorphic, Wolf Seip Bau, liver                                          \n498  Baden Württemberg, Dina Holsten Bau, darken, beslur, Riesa, barauna, Bdellouridae, ctenoidian, Reichmannallee, 82801, 1, altininck, Deutschland, unnethes, antitheistically, Miconia, mesmerizability, Angelica Kühnert Hornig                    \n499  soaked, Gerlachgasse, DE, ortalidian, Ing. Berthold Lindau MBA., NordRheinWestphalen NRW, intersection, biscuiting, 9/6, 75420, uncounterfeited, decorously, harr, ambidextrous, coo, bhagavata, Lutz Eckbauer Bau, Kronach                       \n\n[500 rows x 10 columns]",
      "text/html": "<div>\n<style scoped>\n    .dataframe tbody tr th:only-of-type {\n        vertical-align: middle;\n    }\n\n    .dataframe tbody tr th {\n        vertical-align: top;\n    }\n\n    .dataframe thead th {\n        text-align: right;\n    }\n</style>\n<table border=\"1\" class=\"dataframe\">\n  <thead>\n    <tr style=\"text-align: right;\">\n      <th></th>\n      <th>Unnamed: 0</th>\n      <th>Street_Name</th>\n      <th>Building_Number</th>\n      <th>Zip_Code</th>\n      <th>City</th>\n      <th>Recipient</th>\n      <th>Building_Name</th>\n      <th>Country</th>\n      <th>State</th>\n      <th>Address</th>\n    </tr>\n  </thead>\n  <tbody>\n    <tr>\n      <th>0</th>\n      <td>0</td>\n      <td>Ruppersbergerstraße</td>\n      <td>3</td>\n      <td>92777</td>\n      <td>Stadtsteinach</td>\n      <td>Hiltrud Mies Bonbach</td>\n      <td>Andres Eigenwillig Kambs Bau</td>\n      <td>DE</td>\n      <td>BB</td>\n      <td>auctioneer 3 Stadtsteinach preciously Prosimiae landgraviate Ruppersbergerstraße BB someone Hiltrud Mies Bonbach enzone 92777 DE neuropodium Andres Eigenwillig Kambs Bau sulfoindigotate atheize slobbers</td>\n    </tr>\n    <tr>\n      <th>1</th>\n      <td>1</td>\n      <td>Klaudia Klemt Gasse</td>\n      <td>3</td>\n      <td>73531</td>\n      <td>Bremen</td>\n      <td>Tatjana Weiß</td>\n      <td>Ing. Bartholomäus Fritsch Bau</td>\n      <td>DE</td>\n      <td>Baden Württemberg</td>\n      <td>achroous Coccolobis nymphomania 73531 rogation palfrey inexportable Bremen unbailed Ing. Bartholomäus Fritsch Bau selflessly Klaudia Klemt Gasse Tatjana Weiß DE 3 Baden Württemberg ruffly queerish</td>\n    </tr>\n    <tr>\n      <th>2</th>\n      <td>2</td>\n      <td>Deborah Freudenberger Allee</td>\n      <td>7</td>\n      <td>37749</td>\n      <td>Wittenberg</td>\n      <td>Ing. Phillip Otto</td>\n      <td>Constance Kraushaar Bau</td>\n      <td>DE</td>\n      <td>Niedersachsen NS</td>\n      <td>galloptious, ozonification, adsignification, stra, Deborah Freudenberger Allee, rib, Niedersachsen NS, DE, unroved, cautionry, 37749, scotcher, Ing. Phillip Otto, Mesartim, 7, Constance Kraushaar Bau, Wittenberg, Gellert</td>\n    </tr>\n    <tr>\n      <th>3</th>\n      <td>3</td>\n      <td>Miroslawa Wilms Ring</td>\n      <td>7</td>\n      <td>21666</td>\n      <td>Schlüchtern</td>\n      <td>Grete Dörr B.Eng.</td>\n      <td>Dörthe Mitschke Bau</td>\n      <td>DE</td>\n      <td>SL</td>\n      <td>provocativeness renes dismissal SL Miroslawa Wilms Ring unburrowed Dörthe Mitschke Bau DE Grete Dörr B.Eng. lithographic Geullah decentralism Schlüchtern 21666 hypertonus sailorman 7 Jynginae</td>\n    </tr>\n    <tr>\n      <th>4</th>\n      <td>4</td>\n      <td>Nohlmansallee</td>\n      <td>3/8</td>\n      <td>44158</td>\n      <td>Gräfenhainichen</td>\n      <td>Dr. Brita Harloff B.A.</td>\n      <td>Prof. Korbinian Henschel MBA. Bau</td>\n      <td>Germany</td>\n      <td>Brandenburg</td>\n      <td>44158, hypermetropic, nominy, Brandenburg, Nohlmansallee, maintainment, Gräfenhainichen, Prof. Korbinian Henschel MBA. Bau, Dr. Brita Harloff B.A., Germany, envolume, archigastrula, madreporitic, aldolize, cochlea, dwelt, 3/8, intromissible</td>\n    </tr>\n    <tr>\n      <th>...</th>\n      <td>...</td>\n      <td>...</td>\n      <td>...</td>\n      <td>...</td>\n      <td>...</td>\n      <td>...</td>\n      <td>...</td>\n      <td>...</td>\n      <td>...</td>\n      <td>...</td>\n    </tr>\n    <tr>\n      <th>495</th>\n      <td>495</td>\n      <td>Schenkplatz</td>\n      <td>8</td>\n      <td>77916</td>\n      <td>Rastatt</td>\n      <td>Waltraut Klemm</td>\n      <td>Wilhelm Graf Gertz Bau</td>\n      <td>Deutschland</td>\n      <td>Brandenburg</td>\n      <td>clutchman, apronless, Waltraut Klemm, Yazoo, wash, Brandenburg, noctiluca, 77916, misconceive, Deutschland, detestable, idoloclast, Wilhelm Graf Gertz Bau, Rastatt, Schenkplatz, 8, Durango, gametophore</td>\n    </tr>\n    <tr>\n      <th>496</th>\n      <td>496</td>\n      <td>Gutestraße</td>\n      <td>986</td>\n      <td>14545</td>\n      <td>Bremen</td>\n      <td>Ester Löffler</td>\n      <td>Univ.Prof. Alicja Kranz MBA. Bau</td>\n      <td>Deutschland</td>\n      <td>Thüringen Tü</td>\n      <td>couth, preinduce, Bremen, silverbill, biomathematics, anatox, Ester Löffler, Deutschland, beearn, 14545, menthene, archeus, disconnectiveness, Thüringen Tü, Univ.Prof. Alicja Kranz MBA. Bau, Gutestraße, prunitrin, 986</td>\n    </tr>\n    <tr>\n      <th>497</th>\n      <td>497</td>\n      <td>Wilmsstraße</td>\n      <td>576</td>\n      <td>18658</td>\n      <td>Querfurt</td>\n      <td>Hans Jochen Holzapfel</td>\n      <td>Wolf Seip Bau</td>\n      <td>Deutschland</td>\n      <td>Brandenburg</td>\n      <td>18658, unstolen, 576, Cabinda, Hans Jochen Holzapfel, caconymic, Brandenburg, atomician, outmaster, lox, Wilmsstraße, Deutschland, Querfurt, undisbarred, Chartist, turnicomorphic, Wolf Seip Bau, liver</td>\n    </tr>\n    <tr>\n      <th>498</th>\n      <td>498</td>\n      <td>Reichmannallee</td>\n      <td>1</td>\n      <td>82801</td>\n      <td>Riesa</td>\n      <td>Angelica Kühnert Hornig</td>\n      <td>Dina Holsten Bau</td>\n      <td>Deutschland</td>\n      <td>Baden Württemberg</td>\n      <td>Baden Württemberg, Dina Holsten Bau, darken, beslur, Riesa, barauna, Bdellouridae, ctenoidian, Reichmannallee, 82801, 1, altininck, Deutschland, unnethes, antitheistically, Miconia, mesmerizability, Angelica Kühnert Hornig</td>\n    </tr>\n    <tr>\n      <th>499</th>\n      <td>499</td>\n      <td>Gerlachgasse</td>\n      <td>9/6</td>\n      <td>75420</td>\n      <td>Kronach</td>\n      <td>Ing. Berthold Lindau MBA.</td>\n      <td>Lutz Eckbauer Bau</td>\n      <td>DE</td>\n      <td>NordRheinWestphalen NRW</td>\n      <td>soaked, Gerlachgasse, DE, ortalidian, Ing. Berthold Lindau MBA., NordRheinWestphalen NRW, intersection, biscuiting, 9/6, 75420, uncounterfeited, decorously, harr, ambidextrous, coo, bhagavata, Lutz Eckbauer Bau, Kronach</td>\n    </tr>\n  </tbody>\n</table>\n<p>500 rows × 10 columns</p>\n</div>"
     },
     "execution_count": 25,
     "metadata": {},
     "output_type": "execute_result"
    }
   ],
   "source": [
    "training_data_prep.df_train"
   ]
  },
  {
   "cell_type": "code",
   "execution_count": null,
   "id": "262c523d",
   "metadata": {},
   "outputs": [],
   "source": []
  }
 ],
 "metadata": {
  "kernelspec": {
   "display_name": "Python 3",
   "language": "python",
   "name": "python3"
  },
  "language_info": {
   "codemirror_mode": {
    "name": "ipython",
    "version": 3
   },
   "file_extension": ".py",
   "mimetype": "text/x-python",
   "name": "python",
   "nbconvert_exporter": "python",
   "pygments_lexer": "ipython3",
   "version": "3.8.10"
  }
 },
 "nbformat": 4,
 "nbformat_minor": 5
}